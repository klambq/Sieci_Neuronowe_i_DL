{
 "cells": [
  {
   "cell_type": "markdown",
   "metadata": {},
   "source": [
    "# Sieci neuronowe i Deep Learning\n",
    "# Temat 5: Moduł torch.nn w bibliotece PyTorch"
   ]
  },
  {
   "cell_type": "markdown",
   "metadata": {},
   "source": [
    "Potrzebne pakiety i ich rekomendowane minimalne wersje:\n",
    "`numpy`: 1.21.2,\n",
    "`scipy`: 1.7.0,\n",
    "`sklearn`: 1.0.0,\n",
    "`matplotlib`: 3.4.3,\n",
    "`torch`: 1.9.0."
   ]
  },
  {
   "cell_type": "markdown",
   "metadata": {},
   "source": [
    "## Budowanie modeli sztucznych sieci neuronowych w PyTorch (moduł torch.nn)"
   ]
  },
  {
   "cell_type": "markdown",
   "metadata": {},
   "source": [
    "### Budowa regresji liniowej w PyTorch – jako przykład wprowadzający"
   ]
  },
  {
   "cell_type": "markdown",
   "metadata": {},
   "source": [
    "Zaczniemy od zbudowania prostego modelu regresji liniowej."
   ]
  },
  {
   "cell_type": "code",
   "execution_count": 1,
   "metadata": {},
   "outputs": [],
   "source": [
    "# import torch\n",
    "import numpy as np\n",
    "import matplotlib.pyplot as plt"
   ]
  },
  {
   "cell_type": "code",
   "execution_count": 2,
   "metadata": {},
   "outputs": [
    {
     "name": "stdout",
     "output_type": "stream",
     "text": [
      "[[0.]\n",
      " [1.]\n",
      " [2.]\n",
      " [3.]\n",
      " [4.]\n",
      " [5.]\n",
      " [6.]\n",
      " [7.]\n",
      " [8.]\n",
      " [9.]]\n",
      "[1.  1.3 3.1 2.  5.  6.3 6.6 7.4 8.  9. ]\n"
     ]
    },
    {
     "data": {
      "image/png": "[encoded data removed]",
      "text/plain": [
       "<Figure size 640x480 with 1 Axes>"
      ]
     },
     "metadata": {},
     "output_type": "display_data"
    }
   ],
   "source": [
    "# Tworzymy sztuczny zbiór danych:\n",
    "\n",
    "X_train = np.arange(10, dtype='float32').reshape((10, 1))\n",
    "y_train = np.array([1.0, 1.3, 3.1, 2.0, 5.0, 6.3, 6.6, 7.4, 8.0, 9.0], dtype='float32')\n",
    "\n",
    "plt.plot(X_train, y_train, 'o', markersize=10)\n",
    "plt.xlabel('x')\n",
    "plt.ylabel('y')\n",
    "\n",
    "print(X_train)\n",
    "print(y_train)\n",
    "plt.show()"
   ]
  },
  {
   "cell_type": "markdown",
   "metadata": {},
   "source": [
    "`Dataset` jest klasą abstrakcyjną w PyTorch, która definiuje kluczowe metody, które muszą zostać zaimplementowane przez niestandardowe ,,zestawy danych\", czyli `__len__()` oraz `__getitem__()`. Każda klasa dziedzicząca po Dataset musi zdefiniować te metody, aby można było stworzyć iterowalny zestaw danych, który będzie kompatybilny z `DataLoader` w PyTorch.\n",
    "\n",
    "`__len__(self)` powinna zwracać liczbę przykładów w zestawie danych.\n",
    "`__getitem__(self, index)` powinna zwracać pojedynczy przykład (oraz ewentualnie etykietę) z zestawu danych odpowiadający danemu indeksowi.\n",
    "\n",
    "**`TensorDataset`** to konkretna implementacja klasy `Dataset`, która przyjmuje tensory jako argumenty i przechowuje je. Metoda `__getitem__` wywołana na instancji `TensorDataset` zwraca konkretną próbkę i odpowiadającą jej etykietę jako tensory.\n",
    "Jest to prosty wrapper, który po prostu zwraca wskazane przez index dane, bez dodatkowych przekształceń."
   ]
  },
  {
   "cell_type": "code",
   "execution_count": 3,
   "metadata": {},
   "outputs": [],
   "source": [
    "import torch\n",
    "from torch.utils.data import TensorDataset\n",
    "from torch.utils.data import DataLoader\n",
    "\n",
    "# Standaryzujemy cechy i zamieniamy na tensor:\n",
    "X_train_norm = (X_train - np.mean(X_train)) / np.std(X_train)\n",
    "X_train_norm = torch.from_numpy(X_train_norm)\n",
    "\n",
    "y_train = torch.from_numpy(y_train).float()  # Uwaga: torch.from_numpy() przyjmuje tablice NumPy\n",
    "\n",
    "# Tworzymy obiekt typu Dataset (tutaj dokładniej TensorDataset) ze zbiorem treningowym:\n",
    "train_ds = TensorDataset(X_train_norm, y_train)\n",
    "\n",
    "# Tworzymy obiekt typu DataLoader do obsługi naszego Dataset:\n",
    "batch_size = 1\n",
    "train_dl = DataLoader(train_ds, batch_size, shuffle=True)"
   ]
  },
  {
   "cell_type": "markdown",
   "metadata": {},
   "source": [
    "Dla tego prostego przykładu jednowymiarowego modelu regresji liniowej $z = w x + b$ zaimplementujemy całą metodę od podstaw."
   ]
  },
  {
   "cell_type": "code",
   "execution_count": 4,
   "metadata": {},
   "outputs": [],
   "source": [
    "torch.manual_seed(1)\n",
    "\n",
    "# Definiujemy parametry modelu (weight (w) oraz bias (b)):\n",
    "weight = torch.randn(1)  # Inicjalizacja\n",
    "weight.requires_grad_()  # Ustawia flagę requires_grad tensora weight na True\n",
    "                         # - PyTorch będzie śledził wszystkie operacje na tym tensorze,\n",
    "                         # aby umożliwić obliczenie gradientów podczas kroku wstecznej propagacji\n",
    "\n",
    "bias = torch.zeros(1, requires_grad=True)\n",
    "\n",
    "# Definiujemy funkcję model(), która przekształca input w output metody regresji liniowej:\n",
    "def model(xb):\n",
    "    return xb @ weight + bias  # @ to mnożenie macierzy\n",
    "\n",
    "# Definiujemy funkcję straty (tutaj będzie to MSE):\n",
    "def loss_fn(input, target):\n",
    "    return (input-target).pow(2).mean()"
   ]
  },
  {
   "cell_type": "markdown",
   "metadata": {},
   "source": [
    "W celu wyliczenia wag naszego modelu wykorzystamy algorytm SGD. Poniżej znajduje się jego implementacja, ale można też wykorzystać gotową funkcję z pakietu\n",
    "`torch.optim`.\n",
    "\n",
    "Do obliczania gradientów wykorzystana została funkcja\n",
    "`torch.autograd.backward()`\n",
    "z biblioteki PyTorch."
   ]
  },
  {
   "cell_type": "code",
   "execution_count": 5,
   "metadata": {},
   "outputs": [
    {
     "name": "stdout",
     "output_type": "stream",
     "text": [
      "Epoch 0  Loss 45.0782\n",
      "Epoch 10  Loss 26.4366\n",
      "Epoch 20  Loss 1.5918\n",
      "Epoch 30  Loss 14.1307\n",
      "Epoch 40  Loss 11.6038\n",
      "Epoch 50  Loss 6.3084\n",
      "Epoch 60  Loss 0.6349\n",
      "Epoch 70  Loss 3.1374\n",
      "Epoch 80  Loss 1.9999\n",
      "Epoch 90  Loss 0.3133\n",
      "Epoch 100  Loss 0.7653\n",
      "Epoch 110  Loss 1.0039\n",
      "Epoch 120  Loss 0.0235\n",
      "Epoch 130  Loss 0.5176\n",
      "Epoch 140  Loss 0.0759\n",
      "Epoch 150  Loss 1.8789\n",
      "Epoch 160  Loss 0.0008\n",
      "Epoch 170  Loss 0.0866\n",
      "Epoch 180  Loss 0.0646\n",
      "Epoch 190  Loss 0.0011\n"
     ]
    }
   ],
   "source": [
    "learning_rate = 0.001\n",
    "num_epochs = 200\n",
    "log_epochs = 10\n",
    "\n",
    "for epoch in range(num_epochs):              # Pętla po epokach\n",
    "    for x_batch, y_batch in train_dl:        # Pętla po mini-batchach\n",
    "        pred = model(x_batch)\n",
    "        loss = loss_fn(pred, y_batch)\n",
    "        loss.backward()                      # Automatyczne obliczenie gradientów funkcji straty względem parametrów modelu\n",
    "\n",
    "        with torch.no_grad():\n",
    "            weight -= weight.grad * learning_rate\n",
    "            bias -= bias.grad * learning_rate\n",
    "            weight.grad.zero_()\n",
    "            bias.grad.zero_()                # Zerujemy gradienty, bo PyTorch akumuluje je domyślnie w kolejnych backward()\n",
    " \n",
    "    if epoch % log_epochs==0:\n",
    "        print(f'Epoch {epoch}  Loss {loss.item():.4f}')"
   ]
  },
  {
   "cell_type": "code",
   "execution_count": 6,
   "metadata": {},
   "outputs": [
    {
     "name": "stdout",
     "output_type": "stream",
     "text": [
      "Final Parameters: 2.6696107387542725 4.879678249359131\n"
     ]
    },
    {
     "data": {
      "image/png": "[encoded data removed]",
      "text/plain": [
       "<Figure size 1300x500 with 1 Axes>"
      ]
     },
     "metadata": {},
     "output_type": "display_data"
    }
   ],
   "source": [
    "# Wypisujemy parametry modelu oraz rysujemy jego wykres:\n",
    "\n",
    "print('Final Parameters:', weight.item(), bias.item())\n",
    "\n",
    "X_test = np.linspace(0, 9, num=100, dtype='float32').reshape(-1, 1)\n",
    "X_test_norm = (X_test - np.mean(X_train)) / np.std(X_train)\n",
    "X_test_norm = torch.from_numpy(X_test_norm)\n",
    "y_pred = model(X_test_norm).detach().numpy()\n",
    "\n",
    "\n",
    "fig = plt.figure(figsize=(13, 5))\n",
    "ax = fig.add_subplot(1, 2, 1)\n",
    "plt.plot(X_train_norm, y_train, 'o', markersize=10)\n",
    "plt.plot(X_test_norm, y_pred, '--', lw=3)\n",
    "plt.legend(['Training examples', 'Linear Reg.'], fontsize=15)\n",
    "ax.set_xlabel('x', size=15)\n",
    "ax.set_ylabel('y', size=15)\n",
    "ax.tick_params(axis='both', which='major', labelsize=15)\n",
    "\n",
    "plt.show()"
   ]
  },
  {
   "cell_type": "markdown",
   "metadata": {},
   "source": [
    "### Uczenie modeli z wykorzystaniem modułów torch.nn oraz torch.optim"
   ]
  },
  {
   "cell_type": "markdown",
   "metadata": {},
   "source": [
    "W module `torch.nn` dostępne są (m.in. oczywiście) najważniejsze funkcje straty, a w module `torch.optim` - najważniejsze algorytmy optymalizacyjne, przydatne w kontekście uczenia modeli na podstawie gradientów.\n",
    "\n",
    "Poniższy przykład pokazuje, jak można z tego korzystać (to samo zadanie co powyżej)."
   ]
  },
  {
   "cell_type": "code",
   "execution_count": 7,
   "metadata": {},
   "outputs": [],
   "source": [
    "import torch.nn as nn\n",
    "\n",
    "# Konfigurujemy prosty model liniowy, funkcję straty oraz optymalizator:\n",
    "input_size = 1\n",
    "output_size = 1\n",
    "model = nn.Linear(input_size, output_size)  # Reprezentuje warstwę liniową (tj. pełną warstwę połączoną\n",
    "                                            # bez funkcji aktywacji). Ta warstwa będzie przekształcać\n",
    "                                            # wejścia/e o rozmiarze input_size do wyjść/a o rozmiarze output_size\n",
    "\n",
    "loss_fn = nn.MSELoss(reduction='mean')  # reduction='mean' - strata będzie uśredniona po wszystkich przykładach\n",
    "\n",
    "optimizer = torch.optim.SGD(model.parameters(), lr=learning_rate)"
   ]
  },
  {
   "cell_type": "markdown",
   "metadata": {},
   "source": [
    "Aby przeprowadzić proces uczenia modelu, wystarczy wywołać\n",
    "metodę `step`:"
   ]
  },
  {
   "cell_type": "code",
   "execution_count": 8,
   "metadata": {},
   "outputs": [
    {
     "name": "stdout",
     "output_type": "stream",
     "text": [
      "Epoch 0  Loss 24.6684\n",
      "Epoch 10  Loss 29.1377\n",
      "Epoch 20  Loss 20.9207\n",
      "Epoch 30  Loss 0.1257\n",
      "Epoch 40  Loss 12.4922\n",
      "Epoch 50  Loss 1.7845\n",
      "Epoch 60  Loss 7.6425\n",
      "Epoch 70  Loss 2.5606\n",
      "Epoch 80  Loss 0.0157\n",
      "Epoch 90  Loss 0.7548\n",
      "Epoch 100  Loss 0.8412\n",
      "Epoch 110  Loss 0.4923\n",
      "Epoch 120  Loss 0.0823\n",
      "Epoch 130  Loss 0.0794\n",
      "Epoch 140  Loss 0.0891\n",
      "Epoch 150  Loss 0.0973\n",
      "Epoch 160  Loss 0.1043\n",
      "Epoch 170  Loss 0.1103\n",
      "Epoch 180  Loss 0.0009\n",
      "Epoch 190  Loss 0.0764\n"
     ]
    }
   ],
   "source": [
    "for epoch in range(num_epochs):\n",
    "    for x_batch, y_batch in train_dl:\n",
    "        # 1. Liczymy predykcje\n",
    "        pred = model(x_batch)[:, 0] \n",
    "\n",
    "        # 2. Obliczamy stratę\n",
    "        loss = loss_fn(pred, y_batch)\n",
    "\n",
    "        # 3. Obliczamy gradienty\n",
    "        loss.backward()\n",
    "\n",
    "        # 4. Aktualizujemy parametry z wykorzystaniem gradientów\n",
    "        optimizer.step()\n",
    "\n",
    "        # 5. Resetujemy gradienty do zera\n",
    "        optimizer.zero_grad()\n",
    "        \n",
    "    if epoch % log_epochs==0:\n",
    "        print(f'Epoch {epoch}  Loss {loss.item():.4f}')"
   ]
  },
  {
   "cell_type": "code",
   "execution_count": 9,
   "metadata": {},
   "outputs": [
    {
     "name": "stdout",
     "output_type": "stream",
     "text": [
      "Final Parameters: 2.6496422290802 4.87706995010376\n"
     ]
    },
    {
     "data": {
      "image/png": "[encoded data removed]",
      "text/plain": [
       "<Figure size 1300x500 with 1 Axes>"
      ]
     },
     "metadata": {},
     "output_type": "display_data"
    }
   ],
   "source": [
    "# Wypisujemy parametry modelu oraz rysujemy jego wykres:\n",
    "\n",
    "print('Final Parameters:', model.weight.item(), model.bias.item())\n",
    " \n",
    "X_test = np.linspace(0, 9, num=100, dtype='float32').reshape(-1, 1)\n",
    "X_test_norm = (X_test - np.mean(X_train)) / np.std(X_train)\n",
    "X_test_norm = torch.from_numpy(X_test_norm)\n",
    "y_pred = model(X_test_norm).detach().numpy()\n",
    "\n",
    "\n",
    "fig = plt.figure(figsize=(13, 5))\n",
    "ax = fig.add_subplot(1, 2, 1)\n",
    "plt.plot(X_train_norm.detach().numpy(), y_train.detach().numpy(), 'o', markersize=10)\n",
    "# plt.plot(X_test_norm.detach().numpy(), y_pred.detach().numpy(), '--', lw=3)\n",
    "plt.plot(X_test_norm, y_pred, '--', lw=3)\n",
    "plt.legend(['Training examples', 'Linear reg.'], fontsize=15)\n",
    "ax.set_xlabel('x', size=15)\n",
    "ax.set_ylabel('y', size=15)\n",
    "ax.tick_params(axis='both', which='major', labelsize=15)\n",
    "\n",
    "plt.show()"
   ]
  },
  {
   "cell_type": "markdown",
   "metadata": {},
   "source": [
    "## Sieć MLP dla danych Iris"
   ]
  },
  {
   "cell_type": "markdown",
   "metadata": {},
   "source": [
    "W module `torch.nn` dostępne są zdefiniowane warstwy, które można wykorzystać do wygodnej budowy modeli sieci neuronowych. Poniżej można zobaczyć, jak to funkcjonuje na przykładzie zadania klasyfikacji trzech gatunków irysów (zbiór danych Iris; por. temat 1)."
   ]
  },
  {
   "cell_type": "markdown",
   "metadata": {},
   "source": [
    "Zbiór danych Iris:\n",
    "* 150 przykładów (każdy reprezentuje pojedynczy kwiat irysa),\n",
    "* cechy: długość działki kielicha (*sepal length*) - w centymetrach, szerokość działki kielicha (*sepal width*) - w centymetrach, długość płatka (*petal length*) - w centymetrach, szerokość płatka (*petal width*) - w centymetrach,\n",
    "* zmienna *class* - trzy gatunki irysów: setosa, virginica, versicolor,\n",
    "* każdy gatunek kwiatu irysa jest reprezentowany przez 50 próbek."
   ]
  },
  {
   "cell_type": "code",
   "execution_count": 10,
   "metadata": {},
   "outputs": [],
   "source": [
    "# Pobieramy zbiór danych i dzielimy go losowo na zbiór treningowy (2/3) oraz testowy (1/3):\n",
    "\n",
    "from sklearn.datasets import load_iris\n",
    "from sklearn.model_selection import train_test_split \n",
    "\n",
    "iris = load_iris()\n",
    "X = iris['data']\n",
    "y = iris['target']\n",
    " \n",
    "X_train, X_test, y_train, y_test = train_test_split(\n",
    "    X, y, test_size=1./3, random_state=1)"
   ]
  },
  {
   "cell_type": "code",
   "execution_count": 11,
   "metadata": {},
   "outputs": [],
   "source": [
    "# Standaryzacja + obiekt TensorDataset (ze zbiorem uczącym) + odpowiadający obiekt DataLoader:\n",
    "\n",
    "from torch.utils.data import TensorDataset\n",
    "from torch.utils.data import DataLoader\n",
    "\n",
    "X_train_norm = (X_train - np.mean(X_train)) / np.std(X_train)\n",
    "X_train_norm = torch.from_numpy(X_train_norm).float()\n",
    "y_train = torch.from_numpy(y_train) \n",
    "\n",
    "train_ds = TensorDataset(X_train_norm, y_train)\n",
    "\n",
    "torch.manual_seed(1)\n",
    "batch_size = 2\n",
    "train_dl = DataLoader(train_ds, batch_size, shuffle=True)"
   ]
  },
  {
   "cell_type": "markdown",
   "metadata": {},
   "source": [
    "Jesteśmy gotowi, aby przystąpić do budowania modelu z wykorzystaniem modułu `torch.nn`.\n",
    "\n",
    "W szczególności klasa `nn.Module` daje możliwość \n",
    "konstruowania sieci z gotowych warstw. Listę gotowych warstw znaleźć można pod adresem https://pytorch.org/docs/stable/nn.html.\n",
    "\n",
    "W naszym przykładzie zastosujemy warstwę **liniową** (czasami po ang. nazywaną też *fully connected layer* lub *dense layer*):\n",
    "\n",
    "$$f(w \\times x + b),$$\n",
    "\n",
    "gdzie $x$ to tensor z wartościami wejściowymi, $w$ oraz $b$ to macierz z wagami i wektor obciążeń, natomiast $f$ to funkcja aktywacyjna.\n",
    "\n",
    "Skonstruujmy sieć z dwiema warstwami:\n",
    "- pierwsza warstwa przekształca cechy przez 16 neuronów,\n",
    "- druga warstwa na wejście otrzymuje wyjście z pierwszej warstwy i przekształca je przez 3 neurony (ponieważ mamy 3 klasy)."
   ]
  },
  {
   "cell_type": "markdown",
   "metadata": {},
   "source": [
    "W poniższym fragmencie kodu definiowana jest klasa `Model`, która dziedziczy po `nn.Module` z PyTorch. Jest to model sieci neuronowej z jedną warstwą ukrytą."
   ]
  },
  {
   "cell_type": "code",
   "execution_count": 12,
   "metadata": {},
   "outputs": [],
   "source": [
    "class Model(nn.Module):\n",
    "\n",
    "# W metodzie inicjalizacji określamy warstwy sieci:\n",
    "    def __init__(self, input_size, hidden_size, output_size):\n",
    "        super().__init__()  # Wywołanie konstruktora klasy bazowej nn.Module\n",
    "                            # (super() jest używane do odwołania się do klasy bazowej)\n",
    "        self.layer1 = nn.Linear(input_size, hidden_size)  \n",
    "        self.layer2 = nn.Linear(hidden_size, output_size)  \n",
    "\n",
    "# Metoda forward: definiujemy sposób, w jaki dane wejściowe x są przetwarzane przez model:\n",
    "    def forward(self, x):\n",
    "        x = self.layer1(x)\n",
    "        x = nn.Sigmoid()(x)\n",
    "        x = self.layer2(x)\n",
    "        x = nn.Softmax(dim=1)(x)  # Będzie wyjaśnione\n",
    "        return x"
   ]
  },
  {
   "cell_type": "code",
   "execution_count": 13,
   "metadata": {},
   "outputs": [],
   "source": [
    "input_size = X_train_norm.shape[1]\n",
    "hidden_size = 16\n",
    "output_size = 3\n",
    "\n",
    "model = Model(input_size, hidden_size, output_size)\n",
    "\n",
    "learning_rate = 0.001\n",
    "\n",
    "loss_fn = nn.CrossEntropyLoss()  # Będzie wyjaśnione\n",
    " \n",
    "optimizer = torch.optim.Adam(model.parameters(), lr=learning_rate)  # Będzie wyjaśnione"
   ]
  },
  {
   "cell_type": "code",
   "execution_count": 14,
   "metadata": {},
   "outputs": [],
   "source": [
    "# Uczenie modelu (przez 100 epok):\n",
    "\n",
    "num_epochs = 100\n",
    "loss_hist = [0] * num_epochs\n",
    "accuracy_hist = [0] * num_epochs\n",
    "\n",
    "for epoch in range(num_epochs):\n",
    "\n",
    "    for x_batch, y_batch in train_dl:\n",
    "        pred = model(x_batch)  # Predykcja na x_batch\n",
    "        loss = loss_fn(pred, y_batch.long())  # Obliczanie funkcji straty między pred a y_batch.long()\n",
    "                                              # Konwersja .long() jest wymagana przez funkcję straty CrossEntropyLoss\n",
    "        loss.backward()  # Wsteczna propagacja błędów: oblicza gradienty funkcji straty\n",
    "        optimizer.step()  # Aktualizuje parametry modelu przy użyciu obliczonych gradientów\n",
    "        optimizer.zero_grad()  # Zeruje gradienty w optymalizatorze, aby były gotowe do następnej iteracji\n",
    "    \n",
    "        loss_hist[epoch] += loss.item()*y_batch.size(0)\n",
    "        is_correct = (torch.argmax(pred, dim=1) == y_batch).float()\n",
    "        accuracy_hist[epoch] += is_correct.sum()\n",
    "        \n",
    "    loss_hist[epoch] /= len(train_dl.dataset)\n",
    "    accuracy_hist[epoch] /= len(train_dl.dataset)"
   ]
  },
  {
   "cell_type": "code",
   "execution_count": 15,
   "metadata": {},
   "outputs": [
    {
     "data": {
      "image/png": "[encoded data removed]",
      "text/plain": [
       "<Figure size 1200x500 with 2 Axes>"
      ]
     },
     "metadata": {},
     "output_type": "display_data"
    }
   ],
   "source": [
    "# loss_hist zawiera średnie straty z kolejnych epok uczenia\n",
    "# accuracy_hist zawiera dokładności predykcji z kolejnych epok uczenia\n",
    "# Wizualizacja procesu uczenia:\n",
    "\n",
    "fig = plt.figure(figsize=(12, 5))\n",
    "ax = fig.add_subplot(1, 2, 1)\n",
    "ax.plot(loss_hist, lw=3)\n",
    "ax.set_title('Training loss', size=15)\n",
    "ax.set_xlabel('Epoch', size=15)\n",
    "ax.tick_params(axis='both', which='major', labelsize=15)\n",
    "\n",
    "ax = fig.add_subplot(1, 2, 2)\n",
    "ax.plot(accuracy_hist, lw=3)\n",
    "ax.set_title('Training accuracy', size=15)\n",
    "ax.set_xlabel('Epoch', size=15)\n",
    "ax.tick_params(axis='both', which='major', labelsize=15)\n",
    "plt.tight_layout()\n",
    "\n",
    "\n",
    "plt.show()"
   ]
  },
  {
   "cell_type": "markdown",
   "metadata": {},
   "source": [
    "### Sprawdzenie na zbiorze testowym"
   ]
  },
  {
   "cell_type": "code",
   "execution_count": 16,
   "metadata": {},
   "outputs": [
    {
     "name": "stdout",
     "output_type": "stream",
     "text": [
      "Test Acc.: 0.9800\n"
     ]
    }
   ],
   "source": [
    "X_test_norm = (X_test - np.mean(X_train)) / np.std(X_train)  # Należy pamiętać o standaryzacji,\n",
    "                                                             # ponieważ na takich danych model był uczony\n",
    "X_test_norm = torch.from_numpy(X_test_norm).float()\n",
    "y_test = torch.from_numpy(y_test) \n",
    "pred_test = model(X_test_norm)\n",
    "\n",
    "correct = (torch.argmax(pred_test, dim=1) == y_test).float()\n",
    "accuracy = correct.mean()\n",
    "\n",
    "print(f'Test Acc.: {accuracy:.4f}')"
   ]
  },
  {
   "cell_type": "markdown",
   "metadata": {},
   "source": [
    "### Zapisywanie i ponowne wczytywanie wyuczonych modeli"
   ]
  },
  {
   "cell_type": "markdown",
   "metadata": {},
   "source": [
    "UWAGA: Od PyTorch 2.6 zmienił się domyślny sposób wczytywania modeli: PyTorch teraz domyślnie zakłada, że pliki .pt zawierają tylko wagi, a nie cały obiekt (model z klasą i logiką).\n",
    "Poniższy kod może wyrzucić błędy. Patrz na rozwiązanie poniżej (zalecane)."
   ]
  },
  {
   "cell_type": "markdown",
   "metadata": {},
   "source": [
    "Zbudowany model można zapisać na dysku w następujący sposób (`save(model)` zapisze zarówno architekturę modelu, jak i wszystkie wyliczone parametry):"
   ]
  },
  {
   "cell_type": "code",
   "execution_count": 17,
   "metadata": {},
   "outputs": [],
   "source": [
    "# path = 'iris_classifier.pt'  # Do serializacji wykorzystuje się format pliku .pt lub .pth\n",
    "                             # (zalecane przez PyTorch dla zapisywania modeli)\n",
    "\n",
    "# torch.save(model, path)"
   ]
  },
  {
   "cell_type": "markdown",
   "metadata": {},
   "source": [
    "Załadowanie modelu z dysku:"
   ]
  },
  {
   "cell_type": "code",
   "execution_count": 18,
   "metadata": {
    "scrolled": true
   },
   "outputs": [],
   "source": [
    "# model_new = torch.load(path)\n",
    "# model_new.eval()"
   ]
  },
  {
   "cell_type": "markdown",
   "metadata": {},
   "source": [
    "Zapisywanie samych parametrów modelu:"
   ]
  },
  {
   "cell_type": "code",
   "execution_count": 19,
   "metadata": {},
   "outputs": [],
   "source": [
    "path = 'iris_classifier_state.pt'\n",
    "torch.save(model.state_dict(), path)"
   ]
  },
  {
   "cell_type": "markdown",
   "metadata": {},
   "source": [
    "Aby załadować zapisane parametry, najpier należy utworzyć obiekt modelu. Następnie wczytujemy z dysku zapsiane parametry dla tego modelu."
   ]
  },
  {
   "cell_type": "code",
   "execution_count": 20,
   "metadata": {},
   "outputs": [
    {
     "data": {
      "text/plain": [
       "<All keys matched successfully>"
      ]
     },
     "execution_count": 20,
     "metadata": {},
     "output_type": "execute_result"
    }
   ],
   "source": [
    "model_new = Model(input_size, hidden_size, output_size)\n",
    "\n",
    "model_new.load_state_dict(torch.load(path))"
   ]
  },
  {
   "cell_type": "markdown",
   "metadata": {},
   "source": [
    "Dla sprawdzenia liczymy predykcje za pomocą wczytanego modelu na danych testowych (powinno wyjść to samo, co wcześniej)."
   ]
  },
  {
   "cell_type": "code",
   "execution_count": 21,
   "metadata": {},
   "outputs": [
    {
     "name": "stdout",
     "output_type": "stream",
     "text": [
      "Test Acc.: 0.9800\n"
     ]
    }
   ],
   "source": [
    "pred_test = model_new(X_test_norm)\n",
    "\n",
    "correct = (torch.argmax(pred_test, dim=1) == y_test).float()\n",
    "accuracy = correct.mean()\n",
    " \n",
    "print(f'Test Acc.: {accuracy:.4f}')"
   ]
  },
  {
   "cell_type": "markdown",
   "metadata": {},
   "source": [
    "## Funkcje aktywacyjne dla wielowarstwowych sieci neuronowych"
   ]
  },
  {
   "cell_type": "markdown",
   "metadata": {},
   "source": [
    "### Porównanie tangensa hiperbolicznego z funkcją logistyczną"
   ]
  },
  {
   "cell_type": "code",
   "execution_count": 22,
   "metadata": {},
   "outputs": [],
   "source": [
    "import numpy as np\n",
    "\n",
    "def logistic(z):\n",
    "    return 1.0 / (1.0 + np.exp(-z))"
   ]
  },
  {
   "cell_type": "code",
   "execution_count": 23,
   "metadata": {},
   "outputs": [
    {
     "data": {
      "image/png": "[encoded data removed]",
      "text/plain": [
       "<Figure size 640x480 with 1 Axes>"
      ]
     },
     "metadata": {},
     "output_type": "display_data"
    }
   ],
   "source": [
    "import matplotlib.pyplot as plt\n",
    "%matplotlib inline\n",
    "\n",
    "def tanh(z):\n",
    "    e_p = np.exp(z)\n",
    "    e_m = np.exp(-z)\n",
    "    return (e_p - e_m) / (e_p + e_m)\n",
    "\n",
    "z = np.arange(-5, 5, 0.005)\n",
    "log_act = logistic(z)\n",
    "tanh_act = tanh(z)\n",
    "plt.ylim([-1.5, 1.5])\n",
    "plt.xlabel('Net input $z$')\n",
    "plt.ylabel('Activation $\\\\phi(z)$')\n",
    "plt.axhline(1, color='black', linestyle=':')\n",
    "plt.axhline(0.5, color='black', linestyle=':')\n",
    "plt.axhline(0, color='black', linestyle=':')\n",
    "plt.axhline(-0.5, color='black', linestyle=':')\n",
    "plt.axhline(-1, color='black', linestyle=':')\n",
    "plt.plot(z, tanh_act,\n",
    "    linewidth=3, linestyle='--',\n",
    "    label='Tanh')\n",
    "plt.plot(z, log_act,\n",
    "    linewidth=3,\n",
    "    label='Logistic')\n",
    "plt.legend(loc='lower right')\n",
    "plt.tight_layout()\n",
    "\n",
    "plt.show()"
   ]
  },
  {
   "cell_type": "code",
   "execution_count": 24,
   "metadata": {},
   "outputs": [
    {
     "data": {
      "text/plain": [
       "array([-0.9999092 , -0.99990829, -0.99990737, ...,  0.99990644,\n",
       "        0.99990737,  0.99990829])"
      ]
     },
     "execution_count": 24,
     "metadata": {},
     "output_type": "execute_result"
    }
   ],
   "source": [
    "# tanh z NumPy:\n",
    "\n",
    "np.tanh(z)"
   ]
  },
  {
   "cell_type": "code",
   "execution_count": 25,
   "metadata": {},
   "outputs": [
    {
     "data": {
      "text/plain": [
       "tensor([-0.9999, -0.9999, -0.9999,  ...,  0.9999,  0.9999,  0.9999],\n",
       "       dtype=torch.float64)"
      ]
     },
     "execution_count": 25,
     "metadata": {},
     "output_type": "execute_result"
    }
   ],
   "source": [
    "# tanh z PyTorch:\n",
    "\n",
    "torch.tanh(torch.from_numpy(z))"
   ]
  },
  {
   "cell_type": "code",
   "execution_count": 26,
   "metadata": {},
   "outputs": [
    {
     "data": {
      "text/plain": [
       "array([0.00669285, 0.00672617, 0.00675966, ..., 0.99320669, 0.99324034,\n",
       "       0.99327383])"
      ]
     },
     "execution_count": 26,
     "metadata": {},
     "output_type": "execute_result"
    }
   ],
   "source": [
    "# Funkcja logistyczna z SciPy (moduł special):\n",
    "\n",
    "from scipy.special import expit\n",
    "\n",
    "expit(z)"
   ]
  },
  {
   "cell_type": "code",
   "execution_count": 27,
   "metadata": {},
   "outputs": [
    {
     "data": {
      "text/plain": [
       "tensor([0.0067, 0.0067, 0.0068,  ..., 0.9932, 0.9932, 0.9933],\n",
       "       dtype=torch.float64)"
      ]
     },
     "execution_count": 27,
     "metadata": {},
     "output_type": "execute_result"
    }
   ],
   "source": [
    "# Funkcja logistyczna z PyTorch:\n",
    "\n",
    "torch.sigmoid(torch.from_numpy(z))"
   ]
  },
  {
   "cell_type": "code",
   "execution_count": 28,
   "metadata": {},
   "outputs": [
    {
     "data": {
      "text/plain": [
       "tensor([0.0000, 0.0000, 0.0000,  ..., 4.9850, 4.9900, 4.9950],\n",
       "       dtype=torch.float64)"
      ]
     },
     "execution_count": 28,
     "metadata": {},
     "output_type": "execute_result"
    }
   ],
   "source": [
    "# ReLU w PyTorch:\n",
    "\n",
    "torch.relu(torch.from_numpy(z))"
   ]
  },
  {
   "cell_type": "markdown",
   "metadata": {},
   "source": [
    "Lista dostępnych funkcji actywacji w module `torch.nn`:\n",
    "https://pytorch.org/docs/stable/nn.functional.html#non-linear-activation-functions."
   ]
  }
 ],
 "metadata": {
  "kernelspec": {
   "display_name": "Python 3 (ipykernel)",
   "language": "python",
   "name": "python3"
  },
  "language_info": {
   "codemirror_mode": {
    "name": "ipython",
    "version": 3
   },
   "file_extension": ".py",
   "mimetype": "text/x-python",
   "name": "python",
   "nbconvert_exporter": "python",
   "pygments_lexer": "ipython3",
   "version": "3.12.4"
  },
  "toc-showmarkdowntxt": false,
  "toc-showtags": false
 },
 "nbformat": 4,
 "nbformat_minor": 4
}
