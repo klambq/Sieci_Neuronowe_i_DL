{
 "cells": [
  {
   "cell_type": "markdown",
   "metadata": {
    "tags": []
   },
   "source": [
    "# Sieci neuronowe i Deep Learning\n",
    "# Temat 5: Moduł torch.nn w bibliotece PyTorch"
   ]
  },
  {
   "cell_type": "markdown",
   "metadata": {},
   "source": [
    "## Zadanie 5.1\n",
    "\n",
    "Wykorzystując moduł `torch.nn`, zbudować sieć MLP dla zadania\n",
    "klasyfikacji odręcznie pisanych cyfr na podstawie zbioru danych MNIST, rozważanego w ramach zajęć nr 3 (patrz notebook do tematu nr 3).\n",
    "\n",
    "- W pierwszej kolejności odtworzyć sieć implementowaną od podstaw jako przykład w ramach zajęć nr 3 i porównać otrzymane wyniki.\n",
    "\n",
    "- Następnie rozważyć różne modyfikacje tej sieci z wykorzystaniem możliwości, które daje moduł `torch.nn` (rozważyć inną liczbę i budowę warstw ukrytych, przetestować różne funkcje aktywacji oraz inne algorytmy optymalizacyjne z modułu `torch.optim`). Porównać otrzymane wyniki.\n",
    "\n",
    "Wszystkie sieci w ramach tego zadania skonstruować na podstawie tych samych danych uczących, walidacyjnych i testowych – utworzonych w analogiczny sposób jak w notebooku z wykładu 3."
   ]
  },
  {
   "cell_type": "code",
   "execution_count": 13,
   "metadata": {},
   "outputs": [],
   "source": [
    "import torch\n",
    "import torch.nn as nn\n",
    "import torch.optim as optim\n",
    "from torchvision import datasets, transforms\n",
    "from torch.utils.data import DataLoader\n",
    "import numpy as np\n",
    "import matplotlib.pyplot as plt\n",
    "import torchvision.utils"
   ]
  },
  {
   "cell_type": "code",
   "execution_count": 14,
   "metadata": {},
   "outputs": [],
   "source": [
    "def imshow(img):\n",
    "    img = img / 2 + 0.5  # unnormalize\n",
    "    npimg = img.numpy()\n",
    "    plt.imshow(np.transpose(npimg, (1, 2, 0)))\n",
    "    plt.show()\n",
    "\n",
    "# Test the model and visualize some predictions\n",
    "def test_and_visualize(model, test_loader, classes, dataset = \"MNIST\" or 'CIFAR'):\n",
    "    model.eval()  # Set the model to evaluation mode\n",
    "    data_iter = iter(test_loader)\n",
    "    images, labels = next(data_iter)\n",
    "\n",
    "    # Display images\n",
    "    imshow(torchvision.utils.make_grid(images[:4]))\n",
    "    print('GroundTruth:', ' '.join(f'{classes[labels[j]]}' for j in range(4)))\n",
    "\n",
    "    # Predict\n",
    "    if dataset == \"MNIST\":\n",
    "        images = images.view(-1, 28 * 28)\n",
    "    elif dataset == \"CIFAR\":    \n",
    "        images = images.view(-1, 32 * 32 * 3)\n",
    "    else:\n",
    "        raise ValueError(\"Unsupported dataset. Use 'MNIST' or 'CIFAR'.\")    \n",
    "    outputs = model(images)\n",
    "    _, predicted = torch.max(outputs, 1)\n",
    "\n",
    "    print('Predicted:', ' '.join(f'{classes[predicted[j]]}' for j in range(4)))"
   ]
  },
  {
   "cell_type": "code",
   "execution_count": null,
   "metadata": {},
   "outputs": [
    {
     "name": "stdout",
     "output_type": "stream",
     "text": [
      "Epoch 1/5, Loss: 1.047499110767328\n",
      "Epoch 2/5, Loss: 0.3835636081773716\n",
      "Epoch 3/5, Loss: 0.32635355783678066\n",
      "Epoch 4/5, Loss: 0.2949536548478644\n",
      "Epoch 5/5, Loss: 0.27183345782318347\n"
     ]
    },
    {
     "data": {
      "image/png": "[encoded data removed]",
      "text/plain": [
       "<Figure size 640x480 with 1 Axes>"
      ]
     },
     "metadata": {},
     "output_type": "display_data"
    },
    {
     "name": "stdout",
     "output_type": "stream",
     "text": [
      "GroundTruth: 7 2 1 0\n",
      "Predicted: 7 2 1 0\n"
     ]
    }
   ],
   "source": [
    "# Load MNIST dataset\n",
    "transform = transforms.Compose([transforms.ToTensor(), transforms.Normalize((0.5,), (0.5,))])\n",
    "train_dataset = datasets.MNIST(root='./data', train=True, download=True, transform=transform)\n",
    "test_dataset = datasets.MNIST(root='./data', train=False, download=True, transform=transform)\n",
    "\n",
    "\n",
    "train_loader = DataLoader(train_dataset, batch_size=64, shuffle=True)\n",
    "test_loader = DataLoader(test_dataset, batch_size=64, shuffle=False)\n",
    "\n",
    "# Define the MLP model\n",
    "class MLP(nn.Module):\n",
    "    def __init__(self):\n",
    "        super(MLP, self).__init__()\n",
    "        self.fc1 = nn.Linear(28 * 28, 128)\n",
    "        self.fc2 = nn.Linear(128, 10)\n",
    "\n",
    "    def forward(self, x):\n",
    "        x = x.view(-1, 28 * 28)\n",
    "        x = self.relu(self.fc1(x))\n",
    "        x = self.relu(self.fc2(x))\n",
    "        x = self.fc3(x)\n",
    "        return x\n",
    "\n",
    "# Initialize the model, loss function, and optimizer\n",
    "model = MLP()\n",
    "criterion = nn.CrossEntropyLoss()\n",
    "optimizer = optim.SGD(model.parameters(), lr=0.01)\n",
    "\n",
    "# Train the model\n",
    "num_epochs = 5\n",
    "for epoch in range(num_epochs):\n",
    "    model.train()  # Set the model to training mode\n",
    "    running_loss = 0.0\n",
    "    for inputs, labels in train_loader:\n",
    "        # Zero the parameter gradients\n",
    "        optimizer.zero_grad()\n",
    "\n",
    "        # Forward pass\n",
    "        outputs = model(inputs)\n",
    "        loss = criterion(outputs, labels)\n",
    "\n",
    "        # Backward pass and optimization\n",
    "        loss.backward()\n",
    "        optimizer.step()\n",
    "\n",
    "        # Accumulate loss\n",
    "        running_loss += loss.item()\n",
    "\n",
    "    print(f\"Epoch {epoch + 1}/{num_epochs}, Loss: {running_loss / len(train_loader)}\")\n",
    "\n",
    "# Test and visualize\n",
    "classes = tuple(str(i) for i in range(10))  # MNIST class labels (digits 0-9)\n",
    "test_and_visualize(model, test_loader, classes, 'MNIST')"
   ]
  },
  {
   "cell_type": "markdown",
   "metadata": {},
   "source": [
    "## Zadanie 5.2*\n",
    "\n",
    "Wykorzystując moduł `torch.nn`, zbudować od podstaw prostą sieć MLP dla dowolnie wybranego zadania klasyfikacji (np. na podstawie danych z biblioteki `torchvision.datasets`)."
   ]
  },
  {
   "cell_type": "code",
   "execution_count": 16,
   "metadata": {},
   "outputs": [
    {
     "name": "stdout",
     "output_type": "stream",
     "text": [
      "Epoch 1/5, Loss: 2.041258598227635\n",
      "Epoch 2/5, Loss: 1.7679563635755378\n",
      "Epoch 3/5, Loss: 1.6475494430802973\n",
      "Epoch 4/5, Loss: 1.5734195367759451\n",
      "Epoch 5/5, Loss: 1.5154019112477217\n"
     ]
    },
    {
     "data": {
      "image/png": "[encoded data removed]",
      "text/plain": [
       "<Figure size 640x480 with 1 Axes>"
      ]
     },
     "metadata": {},
     "output_type": "display_data"
    },
    {
     "name": "stdout",
     "output_type": "stream",
     "text": [
      "GroundTruth: cat ship ship plane\n",
      "Predicted: cat ship ship plane\n"
     ]
    }
   ],
   "source": [
    "# Load CIFAR-10 dataset\n",
    "cifar_transform = transforms.Compose([transforms.ToTensor(), transforms.Normalize((0.5, 0.5, 0.5), (0.5, 0.5, 0.5))])\n",
    "cifar_train_dataset = datasets.CIFAR10(root='./data', train=True, download=True, transform=cifar_transform)\n",
    "cifar_test_dataset = datasets.CIFAR10(root='./data', train=False, download=True, transform=cifar_transform)\n",
    "\n",
    "cifar_train_loader = DataLoader(cifar_train_dataset, batch_size=64, shuffle=True)\n",
    "cifar_test_loader = DataLoader(cifar_test_dataset, batch_size=64, shuffle=False)\n",
    "\n",
    "# Define a simple MLP model for CIFAR-10\n",
    "class CIFAR_MLP(nn.Module):\n",
    "    def __init__(self):\n",
    "        super(CIFAR_MLP, self).__init__()\n",
    "        self.fc1 = nn.Linear(32 * 32 * 3, 256)\n",
    "        self.fc2 = nn.Linear(256, 128)\n",
    "        self.fc3 = nn.Linear(128, 10)\n",
    "        self.relu = nn.ReLU()\n",
    "\n",
    "    def forward(self, x):\n",
    "        x = x.view(-1, 32 * 32 * 3)\n",
    "        x = self.relu(self.fc1(x))\n",
    "        x = self.relu(self.fc2(x))\n",
    "        x = self.fc3(x)\n",
    "        return x\n",
    "\n",
    "# Initialize the model, loss function, and optimizer for CIFAR-10\n",
    "cifar_model = CIFAR_MLP()\n",
    "cifar_criterion = nn.CrossEntropyLoss()\n",
    "cifar_optimizer = optim.SGD(cifar_model.parameters(), lr=0.01)\n",
    "\n",
    "num_epochs = 5\n",
    "for epoch in range(num_epochs):\n",
    "    cifar_model.train()  # Set the model to training mode\n",
    "    running_loss = 0.0\n",
    "    for inputs, labels in cifar_train_loader:\n",
    "        # Zero the parameter gradients\n",
    "        cifar_optimizer.zero_grad()\n",
    "\n",
    "        # Forward pass\n",
    "        outputs = cifar_model(inputs)\n",
    "        loss = cifar_criterion(outputs, labels)\n",
    "\n",
    "        # Backward pass and optimization\n",
    "        loss.backward()\n",
    "        cifar_optimizer.step()\n",
    "\n",
    "        # Accumulate loss\n",
    "        running_loss += loss.item()\n",
    "\n",
    "    print(f\"Epoch {epoch + 1}/{num_epochs}, Loss: {running_loss / len(cifar_train_loader)}\")\n",
    "\n",
    "# Function to unnormalize and display an image\n",
    "\n",
    "\n",
    "# CIFAR-10 class labels\n",
    "classes = ('plane', 'car', 'bird', 'cat', 'deer', 'dog', 'frog', 'horse', 'ship', 'truck')\n",
    "\n",
    "# Test and visualize\n",
    "test_and_visualize(cifar_model, cifar_test_loader, classes, 'CIFAR')"
   ]
  }
 ],
 "metadata": {
  "anaconda-cloud": {},
  "kernelspec": {
   "display_name": ".venv",
   "language": "python",
   "name": "python3"
  },
  "language_info": {
   "codemirror_mode": {
    "name": "ipython",
    "version": 3
   },
   "file_extension": ".py",
   "mimetype": "text/x-python",
   "name": "python",
   "nbconvert_exporter": "python",
   "pygments_lexer": "ipython3",
   "version": "3.12.2"
  }
 },
 "nbformat": 4,
 "nbformat_minor": 4
}
