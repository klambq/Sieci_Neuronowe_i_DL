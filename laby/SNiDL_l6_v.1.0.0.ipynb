{
 "cells": [
  {
   "cell_type": "markdown",
   "metadata": {
    "tags": []
   },
   "source": [
    "# Sieci neuronowe i Deep Learning\n",
    "# Temat 6: PyTorch dla bardziej zaawansowanych"
   ]
  },
  {
   "cell_type": "markdown",
   "metadata": {},
   "source": [
    "## Zadanie 6.1\n",
    "\n",
    "Na przykładzie problemu XOR porównać działanie sieci MLP o różnych architekturach (o różnej głębokości i szerokości).\n",
    "\n",
    "- Przeanalizować, co się dzieje, gdy dokładamy kolejne warstwy ukryte (jedną, dwie, trzy i cztery) o tej samej wielkości, na przykład z 4, 10 neuronami.\n",
    "\n",
    "- Przeanalizować, co się dzieje, gdy zwiększamy szerokość ukrytych warstw (dla jednej ukrytej warstwy i dla dwóch ukrytych warstw).\n",
    "\n",
    "- Przy której ze strategii będziemy w stanie osiągać dobre wyniki predykcyjne dla możliwie małej (o małej liczbie parametrów) sieci neuronowej?"
   ]
  },
  {
   "cell_type": "markdown",
   "metadata": {},
   "source": [
    "## Zadanie 6.2*\n",
    "\n",
    "Wykorzystując klasę `nn.Module`,\n",
    "zdefiniować niestandardową warstwę, która mnoży dane wejściowe przez stałą wartość (skalowanie), która jest (uczonym) parametrem modelu.\n",
    "\n",
    "Zmodyfikować wybraną sieć (z tych zbudowanych podczas jednych z poprzednich zajęć), uwzględniając w niej zdefiniowaną warstwę."
   ]
  }
 ],
 "metadata": {
  "anaconda-cloud": {},
  "kernelspec": {
   "display_name": "Python 3 (ipykernel)",
   "language": "python",
   "name": "python3"
  },
  "language_info": {
   "codemirror_mode": {
    "name": "ipython",
    "version": 3
   },
   "file_extension": ".py",
   "mimetype": "text/x-python",
   "name": "python",
   "nbconvert_exporter": "python",
   "pygments_lexer": "ipython3",
   "version": "3.11.5"
  }
 },
 "nbformat": 4,
 "nbformat_minor": 4
}
