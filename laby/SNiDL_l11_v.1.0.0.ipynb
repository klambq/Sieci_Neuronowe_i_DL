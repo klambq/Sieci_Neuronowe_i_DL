{
 "cells": [
  {
   "cell_type": "markdown",
   "metadata": {},
   "source": [
    "# Sieci neuronowe i Deep Learning\n",
    "# Temat 11: Rekurencyjne sieci neuronowe (cz. 2)"
   ]
  },
  {
   "cell_type": "markdown",
   "metadata": {},
   "source": [
    "## Zadanie 11.1\n",
    "\n",
    "Celem tego zadania jest próba ulepszenia sieci zbudowanej w ramach poprzednich zajęć (chodzi o przykładową, gotową architekturę, patrz fragment kodu wklejony poniżej).\n",
    "\n",
    "Sprawdzić następujące propozycje modyfikacji istniejącej sieci. Wybrać te, które zwiększają dokładność predykcyjną modelu (uczenie prowadzić przez 10 epok (lub więcej) przy `batch_size = 32`).\n",
    "\n",
    "1. Zwiększenie wymiaru wektorów embedding (`embed_dim`) może pozwolić modelowi na uchwycenie bardziej złożonych relacji między słowami.\n",
    "2. Zwiększenie liczby jednostek w warstwie LSTM (`rnn_hidden_size`) może poprawić zdolność modelu do zapamiętywania długich sekwencji.\n",
    "3. Dodanie kolejnej warstwy LSTM może pomóc modelowi w lepszym uchwyceniu zależności w sekwencjach.\n",
    "4. Dodanie warstw Dropout pomiędzy warstwami może pomóc w zapobieganiu przeuczeniu modelu.\n",
    "5. Zamiast ReLU, można spróbować użyć innych funkcji aktywacji, takich jak LeakyReLU lub ELU.\n",
    "\n",
    "Pamiętać o optymalizacji tempa uczenia."
   ]
  },
  {
   "cell_type": "code",
   "execution_count": null,
   "metadata": {},
   "outputs": [],
   "source": [
    "class RNN(nn.Module):\n",
    "    def __init__(self, vocab_size, embed_dim, rnn_hidden_size, fc_hidden_size):\n",
    "        super().__init__()\n",
    "        self.embedding = nn.Embedding(vocab_size, \n",
    "                                      embed_dim, \n",
    "                                      padding_idx=0) \n",
    "        self.rnn = nn.LSTM(embed_dim, rnn_hidden_size, \n",
    "                           batch_first=True)\n",
    "        self.fc1 = nn.Linear(rnn_hidden_size, fc_hidden_size)\n",
    "        self.relu = nn.ReLU()\n",
    "        self.fc2 = nn.Linear(fc_hidden_size, 1)\n",
    "        self.sigmoid = nn.Sigmoid()\n",
    "\n",
    "    def forward(self, text, lengths):\n",
    "        out = self.embedding(text)\n",
    "        out = nn.utils.rnn.pack_padded_sequence(out, lengths.cpu().numpy(), enforce_sorted=False, batch_first=True)\n",
    "        out, (hidden, cell) = self.rnn(out)\n",
    "        out = hidden[-1, :, :]\n",
    "        out = self.fc1(out)\n",
    "        out = self.relu(out)\n",
    "        out = self.fc2(out)\n",
    "        out = self.sigmoid(out)\n",
    "        return out\n",
    "     \n",
    "vocab_size = len(vocab)\n",
    "embed_dim = 20\n",
    "rnn_hidden_size = 64\n",
    "fc_hidden_size = 64"
   ]
  }
 ],
 "metadata": {
  "kernelspec": {
   "display_name": "Python 3 (ipykernel)",
   "language": "python",
   "name": "python3"
  },
  "language_info": {
   "codemirror_mode": {
    "name": "ipython",
    "version": 3
   },
   "file_extension": ".py",
   "mimetype": "text/x-python",
   "name": "python",
   "nbconvert_exporter": "python",
   "pygments_lexer": "ipython3",
   "version": "3.11.5"
  }
 },
 "nbformat": 4,
 "nbformat_minor": 4
}
